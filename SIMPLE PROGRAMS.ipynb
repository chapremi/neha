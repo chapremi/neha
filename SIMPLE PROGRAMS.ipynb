{
 "cells": [
  {
   "cell_type": "markdown",
   "id": "f670d7df",
   "metadata": {},
   "source": [
    "# PYTHON PROGRAMMING LANGUAGE\n",
    "\n",
    "QUE.1 WAPP TO INPUT YOUR FIRST NAME AND LAST NAME AND PRINT THE FULL NAME IN A SINGLE LINE.\n",
    "\n"
   ]
  },
  {
   "cell_type": "code",
   "execution_count": 2,
   "id": "5d26eaca",
   "metadata": {},
   "outputs": [
    {
     "name": "stdout",
     "output_type": "stream",
     "text": [
      "enter the first nameankita\n",
      "enter the last name singh\n",
      "ankita  singh\n"
     ]
    }
   ],
   "source": [
    "firstname=input('enter the first name')\n",
    "lastname=input('enter the last name ')\n",
    "print(firstname,end='  ' )\n",
    "print(lastname )"
   ]
  },
  {
   "cell_type": "markdown",
   "id": "e17dcfe2",
   "metadata": {},
   "source": [
    "QUE.2 WAPP TO INPUT TWO NUMBERS AND PRINT THEIR SUM\n"
   ]
  },
  {
   "cell_type": "code",
   "execution_count": 1,
   "id": "e217beee",
   "metadata": {},
   "outputs": [
    {
     "name": "stdout",
     "output_type": "stream",
     "text": [
      "enter the first number12\n",
      "enter the second number21\n",
      "33\n"
     ]
    }
   ],
   "source": [
    "a=input('enter the first number')\n",
    "b=input('enter the second number')\n",
    "a=int(a)\n",
    "b=int(b)\n",
    "print(a+b)"
   ]
  },
  {
   "cell_type": "markdown",
   "id": "8439c96e",
   "metadata": {},
   "source": [
    "QUE.3 WAPP TO PRINT YOUR NAME IN THE REVERSE ORDER"
   ]
  },
  {
   "cell_type": "code",
   "execution_count": 5,
   "id": "559408fb",
   "metadata": {},
   "outputs": [
    {
     "name": "stdout",
     "output_type": "stream",
     "text": [
      "enter your nameankita\n",
      "atikna\n"
     ]
    }
   ],
   "source": [
    "name=input('enter your name')\n",
    "print(name[::-1])"
   ]
  },
  {
   "cell_type": "markdown",
   "id": "0a6d5e20",
   "metadata": {},
   "source": [
    "QUE.4 WAPP TO EXTRACT THE 'x'FROM THE GIVEN LIST \n",
    "(1) l= [12,15.6,'cat','x-mas']\n",
    "(2) l2=[13,17.2,[12,15.6,'cat','x-mas'],(1,2,3)]\n",
    "\n"
   ]
  },
  {
   "cell_type": "code",
   "execution_count": 9,
   "id": "c12c7dbc",
   "metadata": {},
   "outputs": [
    {
     "data": {
      "text/plain": [
       "'x'"
      ]
     },
     "execution_count": 9,
     "metadata": {},
     "output_type": "execute_result"
    }
   ],
   "source": [
    "l1=[12,15.6,'cat','x-mas']\n",
    "l1[3]\n",
    "l1[3][0]"
   ]
  },
  {
   "cell_type": "code",
   "execution_count": 10,
   "id": "397cb4bc",
   "metadata": {},
   "outputs": [
    {
     "data": {
      "text/plain": [
       "'x'"
      ]
     },
     "execution_count": 10,
     "metadata": {},
     "output_type": "execute_result"
    }
   ],
   "source": [
    "l2=[13,17.2,[12,15.6,'cat','x-mas'],(1,2,3)]\n",
    "l2[2]\n",
    "l2[2][3]\n",
    "l2[2][3][0]"
   ]
  },
  {
   "cell_type": "code",
   "execution_count": 11,
   "id": "763019da",
   "metadata": {},
   "outputs": [
    {
     "data": {
      "text/plain": [
       "'param'"
      ]
     },
     "execution_count": 11,
     "metadata": {},
     "output_type": "execute_result"
    }
   ],
   "source": [
    "l3=[27,14,['ankita','param',143],(7,8,9)]\n",
    "l3[2]\n",
    "l3[2][1]\n"
   ]
  },
  {
   "cell_type": "markdown",
   "id": "e01f39a3",
   "metadata": {},
   "source": [
    "QUE.5 WAPP TO INPUT TWO NUMBERS AND PRINT THEIR SUM (int and float)"
   ]
  },
  {
   "cell_type": "code",
   "execution_count": 2,
   "id": "cbbf00fb",
   "metadata": {},
   "outputs": [
    {
     "name": "stdout",
     "output_type": "stream",
     "text": [
      " enter first number10\n",
      "enter second number20\n",
      "30\n"
     ]
    }
   ],
   "source": [
    "a=input(' enter first number')\n",
    "b=input('enter second number')\n",
    "a=int(a)\n",
    "b=int(b)\n",
    "print(a+b)"
   ]
  },
  {
   "cell_type": "code",
   "execution_count": 4,
   "id": "8b6e2bf8",
   "metadata": {},
   "outputs": [
    {
     "name": "stdout",
     "output_type": "stream",
     "text": [
      "enter first number9\n",
      "enter second number9\n",
      "18.0\n"
     ]
    }
   ],
   "source": [
    "x=float(input('enter first number'))\n",
    "y=float(input('enter second number'))\n",
    "print(x+y)"
   ]
  },
  {
   "cell_type": "markdown",
   "id": "f7a9d211",
   "metadata": {},
   "source": [
    "QUE.6 WAPP TO INPUT YOUR FIRSTNAME AND LASTNAME AND PRINT THE FULL NAME IN FOLLOWING CASE 'firstname lastname'"
   ]
  },
  {
   "cell_type": "code",
   "execution_count": 5,
   "id": "78f790eb",
   "metadata": {},
   "outputs": [
    {
     "name": "stdout",
     "output_type": "stream",
     "text": [
      "enter the firstnameankita\n",
      "enter the lastnamesingh\n",
      "Ankita Singh\n"
     ]
    }
   ],
   "source": [
    "firstname=input('enter the firstname')\n",
    "lastname=input('enter the lastname')\n",
    "print(firstname.capitalize(),end=' ')\n",
    "print(lastname.capitalize())"
   ]
  },
  {
   "cell_type": "code",
   "execution_count": 8,
   "id": "d53404a4",
   "metadata": {},
   "outputs": [
    {
     "name": "stdout",
     "output_type": "stream",
     "text": [
      "enter the firstname     ankita\n",
      "enter the lastnamesingh      \n",
      "Ankita Singh\n"
     ]
    }
   ],
   "source": [
    "firstname=input('enter the firstname').strip().capitalize()\n",
    "lastname=input('enter the lastname').strip().capitalize()\n",
    "print(firstname.capitalize(),end=' ')\n",
    "print(lastname.capitalize())"
   ]
  },
  {
   "cell_type": "markdown",
   "id": "e5fdb949",
   "metadata": {},
   "source": [
    "QUE.7 WAPP TO INPUT YOUR NAME,BRANCH,ROLL,SECTION AND EDUCATION IN THE FOLLOWING ORDER (My name is-----,branch is----,roll----section is ----and education is------"
   ]
  },
  {
   "cell_type": "code",
   "execution_count": 13,
   "id": "2ed81ceb",
   "metadata": {},
   "outputs": [
    {
     "name": "stdout",
     "output_type": "stream",
     "text": [
      "My name is:Ankita Singh\n",
      "branch is:Computer Science Engineering\n",
      "roll is:26\n",
      "section is:A\n",
      "My name is Ankita Singh branch is Computer Science Engineering roll is 26 section is A education is education is:\n"
     ]
    }
   ],
   "source": [
    "name=input('My name is:')\n",
    "branch=input('branch is:')\n",
    "roll=input('roll is:')\n",
    "section=input('section is:')\n",
    "education=('education is:')\n",
    "print('My name is',name,'branch is',branch,'roll is',roll,'section is',section,'education is',education,)\n"
   ]
  },
  {
   "cell_type": "markdown",
   "id": "f454bab1",
   "metadata": {},
   "source": [
    "QUE.8 WAPP TO DO DIFFERENT  SLICING FROM THE STRING\n",
    "(a)d= 'astronomy'"
   ]
  },
  {
   "cell_type": "code",
   "execution_count": 16,
   "id": "be4d3cf4",
   "metadata": {},
   "outputs": [
    {
     "data": {
      "text/plain": [
       "'ono'"
      ]
     },
     "execution_count": 16,
     "metadata": {},
     "output_type": "execute_result"
    }
   ],
   "source": [
    "d='astronomy'\n",
    "d[4:7]"
   ]
  },
  {
   "cell_type": "code",
   "execution_count": 17,
   "id": "705b92f7",
   "metadata": {},
   "outputs": [
    {
     "data": {
      "text/plain": [
       "'nomy'"
      ]
     },
     "execution_count": 17,
     "metadata": {},
     "output_type": "execute_result"
    }
   ],
   "source": [
    "d='astronomy'\n",
    "d[5:]"
   ]
  },
  {
   "cell_type": "code",
   "execution_count": 24,
   "id": "04c54f1d",
   "metadata": {},
   "outputs": [
    {
     "ename": "SyntaxError",
     "evalue": "invalid syntax (<ipython-input-24-c318ef320f6c>, line 2)",
     "output_type": "error",
     "traceback": [
      "\u001b[1;36m  File \u001b[1;32m\"<ipython-input-24-c318ef320f6c>\"\u001b[1;36m, line \u001b[1;32m2\u001b[0m\n\u001b[1;33m    d[start : stop+1 :step]=>d[0:5+1:3]\u001b[0m\n\u001b[1;37m                            ^\u001b[0m\n\u001b[1;31mSyntaxError\u001b[0m\u001b[1;31m:\u001b[0m invalid syntax\n"
     ]
    }
   ],
   "source": [
    "d='astronomy'\n",
    "d[start : stop+1 :step]=>d[0:5+1:3]"
   ]
  },
  {
   "cell_type": "code",
   "execution_count": null,
   "id": "bddf2a58",
   "metadata": {},
   "outputs": [],
   "source": []
  }
 ],
 "metadata": {
  "kernelspec": {
   "display_name": "Python 3",
   "language": "python",
   "name": "python3"
  },
  "language_info": {
   "codemirror_mode": {
    "name": "ipython",
    "version": 3
   },
   "file_extension": ".py",
   "mimetype": "text/x-python",
   "name": "python",
   "nbconvert_exporter": "python",
   "pygments_lexer": "ipython3",
   "version": "3.8.8"
  }
 },
 "nbformat": 4,
 "nbformat_minor": 5
}
