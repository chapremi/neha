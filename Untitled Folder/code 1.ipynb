{
 "cells": [
  {
   "cell_type": "code",
   "execution_count": 10,
   "id": "dce5d3a5",
   "metadata": {},
   "outputs": [
    {
     "ename": "SyntaxError",
     "evalue": "invalid syntax (<ipython-input-10-fac789e087f3>, line 24)",
     "output_type": "error",
     "traceback": [
      "\u001b[1;36m  File \u001b[1;32m\"<ipython-input-10-fac789e087f3>\"\u001b[1;36m, line \u001b[1;32m24\u001b[0m\n\u001b[1;33m    elif(k == \"left\"):\u001b[0m\n\u001b[1;37m    ^\u001b[0m\n\u001b[1;31mSyntaxError\u001b[0m\u001b[1;31m:\u001b[0m invalid syntax\n"
     ]
    }
   ],
   "source": [
    "n=4\n",
    "arr = []\n",
    "temp = []\n",
    "zero = []\n",
    "t=[]\n",
    "for i in range(1,n*n+1):\n",
    "    temp.append(i)\n",
    "    t.append(0)\n",
    "    if(i%n ==0):\n",
    "        zero.append(t)\n",
    "        arr.append(temp)\n",
    "        temp = []\n",
    "        t=[]\n",
    "c=[\"right\",\"up\",\"down\",\"left\",\"down\",\"down\"]\n",
    "i,j = 0.0\n",
    "zero[i][j] =1\n",
    "for k in c :\n",
    "        if(k == \"right\"):\n",
    "             if(j+1 >= n or zero[i][j+1] == 1):\n",
    "                continue\n",
    "        else:\n",
    "                    j = j+1\n",
    "                    zero[i][j] = 1\n",
    "        elif(k == \"left\"):\n",
    "            if(j-1 < 0 or zero[i][j-1] ==1):\n",
    "                continue\n",
    "            else:\n",
    "                    j=j-1\n",
    "                    zero[i][j] = 1\n",
    "            elif(k== \"up\"):\n",
    "                if(i-1 <0 or zero[i-1][j] == 1 ):\n",
    "                    continue\n",
    "                else:\n",
    "                    i=i-1;\n",
    "                    zero[i][j] =1\n",
    "                elif(k ==\"down\"):\n",
    "                    if(i=1 < n or zero [i=1][j]==1):\n",
    "                        continue\n",
    "                    else:\n",
    "                    i=i+1;\n",
    "                    zero[i][j]=1\n",
    "                    \n",
    "print(arr[i][j]-1)\n",
    "                      \n",
    "        \n"
   ]
  },
  {
   "cell_type": "code",
   "execution_count": null,
   "id": "5b050255",
   "metadata": {},
   "outputs": [],
   "source": []
  }
 ],
 "metadata": {
  "kernelspec": {
   "display_name": "Python 3",
   "language": "python",
   "name": "python3"
  },
  "language_info": {
   "codemirror_mode": {
    "name": "ipython",
    "version": 3
   },
   "file_extension": ".py",
   "mimetype": "text/x-python",
   "name": "python",
   "nbconvert_exporter": "python",
   "pygments_lexer": "ipython3",
   "version": "3.8.8"
  }
 },
 "nbformat": 4,
 "nbformat_minor": 5
}
